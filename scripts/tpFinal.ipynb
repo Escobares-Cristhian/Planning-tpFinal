{
 "cells": [
  {
   "cell_type": "markdown",
   "metadata": {},
   "source": [
    "# Trabajo Final - Planning - MAIE\n",
    "En la presente notebook se realizará el trabajo final de la materia Planning de la MAIE, y se explicará paso a paso su resolución"
   ]
  },
  {
   "cell_type": "code",
   "execution_count": null,
   "metadata": {},
   "outputs": [],
   "source": []
  }
 ],
 "metadata": {
  "language_info": {
   "name": "python"
  }
 },
 "nbformat": 4,
 "nbformat_minor": 2
}
