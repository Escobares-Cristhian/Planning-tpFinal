{
 "cells": [
  {
   "cell_type": "markdown",
   "metadata": {},
   "source": [
    "# Trabajo Final - Planning - MAIE\n",
    "En la presente notebook se realizará el trabajo final de la materia Planning de la MAIE, y se explicará paso a paso su resolución. Primero, seleccionar la fecha a procesar en la variable ***fecha*** de la forma YYYY-MM-DD en formato string"
   ]
  },
  {
   "cell_type": "code",
   "execution_count": 19,
   "metadata": {},
   "outputs": [
    {
     "name": "stdout",
     "output_type": "stream",
     "text": [
      "Existe un único archivo de datos para la fecha 2023-01-06. Continuar ejecución\n"
     ]
    }
   ],
   "source": [
    "# ----- Elegir fecha a procesar -----\n",
    "fecha = '2023-01-06'\n",
    "\n",
    "# ----------------------------------------------------------\n",
    "# ----- NO MODIFICAR: Importación de librarías -------------\n",
    "# ----------------------------------------------------------\n",
    "import os\n",
    "import sys\n",
    "import glob\n",
    "import zipfile\n",
    "import numpy as np\n",
    "import pandas as pd\n",
    "import matplotlib.pyplot as plt\n",
    "from osgeo import gdal\n",
    "gdal.UseExceptions()\n",
    "\n",
    "# -----------------------------------------\n",
    "# ----- NO MODIFICAR: CHEQUEO -------------\n",
    "# -----------------------------------------\n",
    "path = os.getcwd()\n",
    "\n",
    "# Verifico que exista la carpeta de datos, si no lanzo error\n",
    "if not os.path.exists(f'{path}/datos'):\n",
    "    raise Exception(\n",
    "        '''\n",
    "        No existe la carpeta \"datos\" en el directorio actual.\n",
    "        Verificar que el path de ejecución sea donde se clonó el repositorio\n",
    "        ''')\n",
    "path_datos = f'{path}/datos'\n",
    "\n",
    "# Verifico que exista la carpeta de procesamiento, si no la creo\n",
    "if not os.path.exists(f'{path}/procesamiento'):\n",
    "    os.system(f'mkdir {path}/procesamiento')\n",
    "path_proc = f'{path}/procesamiento'\n",
    "\n",
    "# Verifico que exista la carpeta de resultados, si no la creo\n",
    "if not os.path.exists(f'{path}/plots'):\n",
    "    os.system(f'mkdir {path}/plots')\n",
    "path_plots = f'{path}/plots'\n",
    "\n",
    "# Verifico que exista la fecha a procesar\n",
    "# Los-Molinos_2023-01-06_0_all_bands\n",
    "datos_path_list = glob.glob(f'{path_datos}/Los-Molinos_{fecha}_*.zip')\n",
    "if len(datos_path_list) == 0:\n",
    "    raise Exception(f'No se encontraron datos para la fecha {fecha}')\n",
    "elif len(datos_path_list) == 1:\n",
    "    path_file = datos_path_list[0]\n",
    "    print(f'Existe un único archivo de datos para la fecha {fecha}. Continuar ejecución')\n",
    "else:\n",
    "    raise ValueError(f'Existen {len(datos_path_list)} archivos para la fecha {fecha}. Verificar, se aborta la ejecución')"
   ]
  },
  {
   "cell_type": "markdown",
   "metadata": {},
   "source": [
    "A continuación, descomprimirá el zip en la carpeta ***procesamiento*** y obtengo los links de cada banda"
   ]
  },
  {
   "cell_type": "code",
   "execution_count": 31,
   "metadata": {},
   "outputs": [
    {
     "name": "stdout",
     "output_type": "stream",
     "text": [
      "--------------------------------------------------------------------------------\n",
      "Archivo:\n",
      "/datos/Los-Molinos_2023-01-06_0_all_bands.zip\n",
      "Descomprimido en:\n",
      "/procesamiento/2023-01-06/\n",
      "--------------------------------------------------------------------------------\n",
      "Las bandas encontradas son:\n",
      "SR_B1\n",
      "SR_B2\n",
      "SR_B3\n",
      "SR_B4\n",
      "SR_B5\n",
      "SR_B6\n",
      "SR_B7\n",
      "ST_B10\n",
      "QA_PIXEL\n"
     ]
    }
   ],
   "source": [
    "# Creo subcarpeta de extacción, si existe, elimino el contenido\n",
    "path_proc_fecha = f'{path_proc}/{fecha}'\n",
    "if not os.path.exists(path_proc_fecha):\n",
    "    os.system(f'mkdir {path_proc_fecha}')\n",
    "else:\n",
    "    os.system(f'rm -r {path_proc_fecha}/*')\n",
    "\n",
    "# Decomprimo path_file a path_proc    \n",
    "with zipfile.ZipFile(path_file, 'r') as zip_ref:\n",
    "    zip_ref.extractall(path_proc_fecha)\n",
    "    print('-'*80)\n",
    "    print(f'Archivo:\\n{path_file.replace(path, '')}\\nDescomprimido en:\\n{path_proc_fecha.replace(path, '')}/')\n",
    "    print('-'*80)\n",
    "\n",
    "# Obtengo los paths de las bandas\n",
    "path_bands = glob.glob(f'{path_proc_fecha}/*.tif')\n",
    "\n",
    "# Controlo que se hayan encontrado archivos\n",
    "if len(path_bands) == 0:\n",
    "    raise ValueError('No se encontraron los archivos decomprimidos, revisar código')\n",
    "\n",
    "print('Las bandas encontradas son:')\n",
    "for band in path_bands:\n",
    "    print(band.split('/')[-1].split('.')[1])"
   ]
  },
  {
   "cell_type": "markdown",
   "metadata": {},
   "source": [
    "Genero índice de MNDWI para generar la máscara de agua/no-agua con su fórmula para Landsat 8:\n",
    "\n",
    "$MNDWI = \\frac{Banda 3 – Banda 6}{Banda 3 + Banda 6}$"
   ]
  },
  {
   "cell_type": "markdown",
   "metadata": {},
   "source": [
    "Genero índice de NDVI con el recorte realizado con su fórmula para Lansat 8:\n",
    "\n",
    "$NDVI = \\frac{Banda 5 – Banda 4}{Banda 5 + Banda 4}$"
   ]
  },
  {
   "cell_type": "code",
   "execution_count": null,
   "metadata": {},
   "outputs": [],
   "source": []
  },
  {
   "cell_type": "code",
   "execution_count": null,
   "metadata": {},
   "outputs": [],
   "source": []
  }
 ],
 "metadata": {
  "kernelspec": {
   "display_name": "Python 3",
   "language": "python",
   "name": "python3"
  },
  "language_info": {
   "codemirror_mode": {
    "name": "ipython",
    "version": 3
   },
   "file_extension": ".py",
   "mimetype": "text/x-python",
   "name": "python",
   "nbconvert_exporter": "python",
   "pygments_lexer": "ipython3",
   "version": "3.12.3"
  }
 },
 "nbformat": 4,
 "nbformat_minor": 2
}
