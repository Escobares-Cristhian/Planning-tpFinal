{
 "cells": [
  {
   "cell_type": "markdown",
   "metadata": {},
   "source": [
    "# Trabajo Final - Planning - MAIE\n",
    "En la presente notebook se realizará el trabajo final de la materia Planning de la MAIE, y se explicará paso a paso su resolución. Primero, seleccionar la fecha a procesar en la variable ***fecha*** de la forma YYYY-MM-DD en formato string"
   ]
  },
  {
   "cell_type": "code",
   "execution_count": null,
   "metadata": {},
   "outputs": [],
   "source": [
    "# ----- Elegir fecha a procesar -----\n",
    "fecha = '2023-01-06'\n",
    "\n",
    "# ----------------------------------------------------------\n",
    "# ----- NO MODIFICAR: Importación de librarías -------------\n",
    "# ----------------------------------------------------------\n",
    "import os\n",
    "import sys\n",
    "import glob\n",
    "import numpy as np\n",
    "import pandas as pd\n",
    "import matplotlib.pyplot as plt\n",
    "from osgeo import gdal\n",
    "gdal.UseExceptions()\n",
    "\n",
    "# -----------------------------------------\n",
    "# ----- NO MODIFICAR: CHEQUEO -------------\n",
    "# -----------------------------------------\n",
    "path = os.getcwd()\n",
    "\n",
    "# Verifico que exista la carpeta de datos, si no lanzo error\n",
    "if not os.path.exists(f'{path}/datos'):\n",
    "    raise Exception(\n",
    "        '''\n",
    "        No existe la carpeta \"datos\" en el directorio actual.\n",
    "        Verificar que el path de ejecución sea donde se clonó el repositorio\n",
    "        ''')\n",
    "\n",
    "# Verifico que exista la carpeta de resultados, si no la creo\n",
    "if not os.path.exists(f'{path}/plots'):\n",
    "    os.system(f'mkdir {path}/plots')\n",
    "\n",
    "# Verifico que exista la fecha a procesar\n",
    "# Los-Molinos_2023-01-06_0_all_bands\n",
    "datos_path_list = glob.glob(f'{path}/datos/Los-Molinos_{fecha}_*_all_bands.tif')\n",
    "if len(datos_path_list) == 0:\n",
    "    raise Exception(f'No se encontraron datos para la fecha {fecha}')"
   ]
  }
 ],
 "metadata": {
  "language_info": {
   "name": "python"
  }
 },
 "nbformat": 4,
 "nbformat_minor": 2
}
